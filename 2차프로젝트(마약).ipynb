{
 "cells": [
  {
   "cell_type": "code",
   "execution_count": 5,
   "id": "c340ebba",
   "metadata": {},
   "outputs": [],
   "source": [
    "from flask import Flask, request, make_response, redirect\n",
    "# Flask - 서버를 구동시킬 수 있는 객체\n",
    "# request - 요청을 처리할 수 있게끔 도와주는 객체\n",
    "# redirect, make_response - 응답과 관련된 처리를 도와주는 기능\n",
    "from flask_cors import CORS\n",
    "# CORS - ajax 사용할 때 발생하는 동일출처정책에 대해서 열어줄때 사용가능"
   ]
  },
  {
   "cell_type": "code",
   "execution_count": 6,
   "id": "40ffeed5",
   "metadata": {},
   "outputs": [],
   "source": [
    "#1. 라이브러리 불러오기\n",
    "# 크롬창을 띄어주는 역활\n",
    "from selenium import webdriver as wb\n",
    "# CSS 선택자를 활용해서 접근 할 수 있게 도와주는 키워드\n",
    "from selenium.webdriver.common.by import By\n",
    "# 키보드 관련 이벤트를 제어할 수 있는 키워드\n",
    "from selenium.webdriver.common.keys import Keys\n",
    "# 시간을 제어하는 라이브러리 -->  응답 페이지가 돌아오는 시간보다 내 코드가 읽히는 시간이 빠르면 문제가 발생하므로 딜레이 부여\n",
    "import time\n",
    "from datetime import datetime\n",
    "date = datetime.today().year\n",
    "month = datetime.today().month-2\n",
    "drugs=[]\n",
    "for i in range(date-9, date+1):\n",
    "    drugs.append(i)\n"
   ]
  },
  {
   "cell_type": "code",
   "execution_count": 7,
   "id": "da38e45a",
   "metadata": {},
   "outputs": [
    {
     "name": "stderr",
     "output_type": "stream",
     "text": [
      "The chromedriver version (119.0.6045.105) detected in PATH at C:\\Users\\USER\\Desktop\\PythonStudy\\chromedriver.exe might not be compatible with the detected chrome version (120.0.6099.109); currently, chromedriver 120.0.6099.71 is recommended for chrome 120.*, so it is advised to delete the driver in PATH and retry\n"
     ]
    }
   ],
   "source": [
    "from selenium.webdriver.chrome.options import Options\n",
    "from selenium.webdriver.common.by import By\n",
    "from selenium.webdriver.support.ui import WebDriverWait\n",
    "from selenium.webdriver.support import expected_conditions as EC\n",
    "from selenium import webdriver\n",
    "from selenium.webdriver.common.keys import Keys\n",
    "\n",
    "\n",
    "chrome_options = Options()\n",
    "chrome_options.add_experimental_option(\"prefs\", {\n",
    "    \"download.default_directory\": r\"C:\\Users\\USER\\Desktop\\2차프로젝트 마약pdf\",\n",
    "    \"download.prompt_for_download\": False,\n",
    "    \"download.directory_upgrade\": True,\n",
    "    \"plugins.always_open_pdf_externally\": True\n",
    "})\n",
    "\n",
    "\n",
    "driver = webdriver.Chrome(options=chrome_options)\n",
    "\n",
    "\n",
    "for i in range(0, 10):\n",
    "    driver.get(\"https://www.spo.go.kr/site/spo/ex/board/List.do?cbIdx=1201\")\n",
    "    search = driver.find_element(By.ID, \"searchKeyword\")\n",
    "    \n",
    "    if i == 9:\n",
    "        search.clear()  \n",
    "        search.send_keys(str(drugs[i]) + \"년 \" + str(month) + \"월 마약류\")\n",
    "    else:\n",
    "        search.send_keys(str(drugs[i]) + \"년 12월 마약류\")\n",
    "\n",
    "    search.send_keys(Keys.ENTER)\n",
    "    \n",
    "    \n",
    "    wait = WebDriverWait(driver, 10)\n",
    "    element = wait.until(EC.element_to_be_clickable((By.CSS_SELECTOR, \"#BbsContentFVo > div.brdList > ul > li > dl.title.w55 > dd > a\")))\n",
    "    element.click()\n",
    "\n",
    "    \n",
    "    element_pdf = wait.until(EC.element_to_be_clickable((By.CSS_SELECTOR, \"#BbsContentFVo > div.brdView > dl > dd > div.file > a.pdfFile\")))\n",
    "    element_pdf.click()"
   ]
  },
  {
   "cell_type": "code",
   "execution_count": null,
   "id": "ef5a7e67",
   "metadata": {},
   "outputs": [],
   "source": []
  },
  {
   "cell_type": "code",
   "execution_count": null,
   "id": "ab7940d4",
   "metadata": {},
   "outputs": [],
   "source": []
  },
  {
   "cell_type": "code",
   "execution_count": null,
   "id": "47c762aa",
   "metadata": {},
   "outputs": [],
   "source": []
  },
  {
   "cell_type": "code",
   "execution_count": null,
   "id": "b2b7e5b5",
   "metadata": {},
   "outputs": [],
   "source": []
  },
  {
   "cell_type": "code",
   "execution_count": null,
   "id": "285480a6",
   "metadata": {},
   "outputs": [],
   "source": []
  },
  {
   "cell_type": "code",
   "execution_count": null,
   "id": "2e0e6ace",
   "metadata": {},
   "outputs": [],
   "source": []
  },
  {
   "cell_type": "code",
   "execution_count": null,
   "id": "87ee3da9",
   "metadata": {},
   "outputs": [],
   "source": []
  },
  {
   "cell_type": "code",
   "execution_count": null,
   "id": "af841966",
   "metadata": {},
   "outputs": [],
   "source": []
  },
  {
   "cell_type": "code",
   "execution_count": null,
   "id": "3b626c68",
   "metadata": {},
   "outputs": [],
   "source": []
  },
  {
   "cell_type": "code",
   "execution_count": null,
   "id": "9a713540",
   "metadata": {},
   "outputs": [],
   "source": []
  },
  {
   "cell_type": "code",
   "execution_count": null,
   "id": "683ebd85",
   "metadata": {},
   "outputs": [],
   "source": []
  },
  {
   "cell_type": "code",
   "execution_count": null,
   "id": "266b3a91",
   "metadata": {},
   "outputs": [],
   "source": []
  },
  {
   "cell_type": "code",
   "execution_count": null,
   "id": "8c60df88",
   "metadata": {},
   "outputs": [],
   "source": []
  },
  {
   "cell_type": "code",
   "execution_count": null,
   "id": "5d19dc0f",
   "metadata": {},
   "outputs": [],
   "source": []
  },
  {
   "cell_type": "code",
   "execution_count": null,
   "id": "a8796866",
   "metadata": {},
   "outputs": [],
   "source": []
  }
 ],
 "metadata": {
  "kernelspec": {
   "display_name": "Python 3 (ipykernel)",
   "language": "python",
   "name": "python3"
  },
  "language_info": {
   "codemirror_mode": {
    "name": "ipython",
    "version": 3
   },
   "file_extension": ".py",
   "mimetype": "text/x-python",
   "name": "python",
   "nbconvert_exporter": "python",
   "pygments_lexer": "ipython3",
   "version": "3.11.4"
  },
  "toc": {
   "base_numbering": 1,
   "nav_menu": {},
   "number_sections": true,
   "sideBar": true,
   "skip_h1_title": false,
   "title_cell": "Table of Contents",
   "title_sidebar": "Contents",
   "toc_cell": false,
   "toc_position": {},
   "toc_section_display": true,
   "toc_window_display": false
  }
 },
 "nbformat": 4,
 "nbformat_minor": 5
}
